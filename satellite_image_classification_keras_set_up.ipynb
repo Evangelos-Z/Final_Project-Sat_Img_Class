{
 "cells": [
  {
   "cell_type": "markdown",
   "metadata": {},
   "source": [
    "## <font color = \"lightseagreen\">0. Importing Libraries<font>"
   ]
  },
  {
   "cell_type": "code",
   "execution_count": 1,
   "metadata": {},
   "outputs": [],
   "source": [
    "# basic libraries\n",
    "import pandas as pd\n",
    "import numpy as np\n",
    "import sys\n",
    "\n",
    "###import datetime\n",
    "\n",
    "# path and data management\n",
    "import os\n",
    "import shutil\n",
    "\n",
    "# visualization libraries\n",
    "import matplotlib.pyplot as plt\n",
    "import seaborn as sns\n",
    "\n",
    "from random import sample\n",
    "import time\n",
    "import re\n",
    "import warnings\n",
    "\n",
    "# image manipulation/processing\n",
    "import rioxarray\n",
    "from PIL import Image\n",
    "from IPython.display import Image as ipimage\n",
    "import odc\n",
    "\n",
    "# FROM ISI'S REPO\n",
    "import shutil # High-level file operations\n",
    "import random # to generate random samples\n",
    "\n",
    "# Computer Vision\n",
    "import tensorflow as tf # machine learning and neural networks\n",
    "from tensorflow import keras # deep learning and neural networks\n",
    "from tensorflow.keras import layers # layers for neural networks\n",
    "from tensorflow.keras.preprocessing.image import ImageDataGenerator # real-time data augmentation\n",
    "# NOT FROM ISI'S REPO\n",
    "\n",
    "# classification\n",
    "import xgboost as xgb\n",
    "from xgboost import XGBClassifier"
   ]
  },
  {
   "cell_type": "code",
   "execution_count": 2,
   "metadata": {},
   "outputs": [],
   "source": [
    "# setting session parameters\n",
    "warnings.filterwarnings(\"ignore\")\n",
    "pd.set_option('display.max_columns', None)"
   ]
  },
  {
   "cell_type": "markdown",
   "metadata": {},
   "source": [
    "## <font color = \"lightseagreen\">1. Importing Datasets<font>"
   ]
  },
  {
   "cell_type": "markdown",
   "metadata": {},
   "source": [
    "<h3 style = \"color:dimgray\">Data description:</h3>\n",
    "<font color = = \"dimgray\">The full dataset, consisting of 4 folders representing the 4 categories \"cloudy\", \"desert\", \"green area\" and \"water\", with 1500, 1131, 1500 and 1500 images respectively was retrieved from <a href=\"https://www.kaggle.com/datasets/mahmoudreda55/satellite-image-classification\">Satellite Image Classification</a>.<font>\n",
    "\n",
    "<h3 style = \"color:dimgray\">Goal:</h3>\n",
    "<font color = = \"dimgray\">The use of maching learning algorithm(s) for the classification of the images in the abovementioned categories.<font>"
   ]
  },
  {
   "cell_type": "code",
   "execution_count": 3,
   "metadata": {},
   "outputs": [],
   "source": [
    "# Defining data paths. Note that all the files were initially in the same folders per category and since most of them will \n",
    "# be used for training the model, they were saved the \"train\" folder. Later on they will be sampled to create the validation and test sets\n",
    "data_path = os.path.join(os.getcwd(), \"data\")\n",
    "\n",
    "cloudy_train = os.path.join(data_path, \"train/cloudy\")\n",
    "desert_train = os.path.join(data_path, \"train/desert\")\n",
    "forest_train = os.path.join(data_path, \"train/green_area\")\n",
    "water_train = os.path.join(data_path, \"train/water\")\n",
    "\n",
    "# defining validation directories to be created\n",
    "cloudy_valid = os.path.join(data_path, \"valid/cloudy\")\n",
    "desert_valid = os.path.join(data_path, \"valid/desert\")\n",
    "forest_valid = os.path.join(data_path, \"valid/green_area\")\n",
    "water_valid = os.path.join(data_path, \"valid/water\")\n",
    "\n",
    "# defining test directory to be created\n",
    "imbalanced_test_dir = os.path.join(data_path, \"test/test\")  # prefix imbalanced will make sense later along the script\n",
    "\n",
    "# listing image names\n",
    "cloudy_img_lst = os.listdir(\"data/train/cloudy\")\n",
    "desert_img_lst = os.listdir(\"data/train/desert\")\n",
    "forest_img_lst = os.listdir(\"data/train/green_area\")\n",
    "water_img_lst = os.listdir(\"data/train/water\")"
   ]
  },
  {
   "cell_type": "code",
   "execution_count": 4,
   "metadata": {},
   "outputs": [],
   "source": [
    "# adapted from code found on Github @isi_mube and @sabinagio\n",
    "def fix_valid_test_dirs(validation_dir_list, test_dir):\n",
    "    # fixing validation directories\n",
    "    for val_dir in validation_dir_list:\n",
    "        os.makedirs(val_dir, exist_ok=True)\n",
    "    # fixing test directory\n",
    "    os.makedirs(test_dir, exist_ok=True)\n",
    "\n",
    "fix_valid_test_dirs([cloudy_valid, desert_valid, forest_valid, water_valid], imbalanced_test_dir)"
   ]
  },
  {
   "cell_type": "markdown",
   "metadata": {},
   "source": [
    "## <font color = \"lightseagreen\">2. Data Cleaning<font>"
   ]
  },
  {
   "cell_type": "code",
   "execution_count": 5,
   "metadata": {},
   "outputs": [
    {
     "name": "stdout",
     "output_type": "stream",
     "text": [
      "Cloudy image title check: ['train_20957.jpg', 'train_5925.jpg', 'train_31951.jpg', 'train_4587.jpg', 'train_14787.jpg'] \n",
      "\n",
      "Desert image title check: ['desert(679).jpg', 'desert(195).jpg', 'desert(155).jpg', 'desert(738).jpg', 'desert(671).jpg'] \n",
      "\n",
      "Green area title prefix check: ['Forest_747.jpg', 'Forest_2843.jpg', 'Forest_760.jpg', 'Forest_1672.jpg', 'Forest_2531.jpg'] \n",
      "\n",
      "Water image title check: ['SeaLake_1135.jpg', 'SeaLake_2685.jpg', 'SeaLake_741.jpg', 'SeaLake_1608.jpg', 'SeaLake_1151.jpg']\n"
     ]
    }
   ],
   "source": [
    "# On examination of the folders' contents, it was made clear that the cloudy images all have the prefix \"train\" since the\n",
    "# models will be trained and validated using samples of all images and for the avoidance of confusion, renaming them seems only right\n",
    "print(\"Cloudy image title check:\", sample(cloudy_img_lst, 5), \"\\n\")\n",
    "print(\"Desert image title check:\", sample(desert_img_lst, 5), \"\\n\")\n",
    "print(\"Green area title prefix check:\", sample(forest_img_lst, 5), \"\\n\")\n",
    "print(\"Water image title check:\", sample(water_img_lst, 5))"
   ]
  },
  {
   "cell_type": "code",
   "execution_count": 6,
   "metadata": {},
   "outputs": [
    {
     "name": "stdout",
     "output_type": "stream",
     "text": [
      "num train 1500\n",
      "num cloudy 0\n"
     ]
    }
   ],
   "source": [
    "# double-checking\n",
    "pattern1 = r\"train_(\\d+)\"  # pattern provided by ChatGPT\n",
    "pattern2 = r\"cloudy_(\\d+)\"\n",
    "num_match1 = 0\n",
    "num_match2 = 0\n",
    "\n",
    "# iterating\n",
    "for filename in cloudy_img_lst:\n",
    "    match1 = re.match(pattern1, random.choice(cloudy_img_lst))\n",
    "    match2 = re.match(pattern2, random.choice(cloudy_img_lst))\n",
    "    if match1:\n",
    "        num_match1 += 1\n",
    "    elif match2:\n",
    "        num_match2 += 1\n",
    "    else:\n",
    "        print(\"no match\", filename)\n",
    "\n",
    "print(\"num train\", num_match1)\n",
    "print(\"num cloudy\", num_match2)"
   ]
  },
  {
   "cell_type": "code",
   "execution_count": 7,
   "metadata": {},
   "outputs": [
    {
     "name": "stdout",
     "output_type": "stream",
     "text": [
      "Cloudy image title check: ['cloudy_13613.jpg', 'cloudy_30862.jpg', 'cloudy_39830.jpg', 'cloudy_15489.jpg', 'cloudy_13497.jpg'] \n",
      "\n"
     ]
    }
   ],
   "source": [
    "# finally changing names of files in direcrory\n",
    "for filename in cloudy_img_lst:\n",
    "    match = re.match(pattern1, filename)\n",
    "    if match:\n",
    "        num = match.group(1)  # keeping number part intact\n",
    "        new_filename = f\"cloudy_{num}.jpg\"  # defining new filename\n",
    "        os.rename(os.path.join(cloudy_train + \"/\" + filename), (cloudy_train + \"/\" + new_filename))\n",
    "    else:\n",
    "        continue\n",
    "\n",
    "# redefining cloudy image list with new file names\n",
    "cloudy_img_lst = os.listdir(\"data/train/cloudy\")\n",
    "\n",
    "# double-checking\n",
    "print(\"Cloudy image title check:\", sample(cloudy_img_lst, 5), \"\\n\")"
   ]
  },
  {
   "cell_type": "code",
   "execution_count": 8,
   "metadata": {},
   "outputs": [
    {
     "name": "stdout",
     "output_type": "stream",
     "text": [
      "Water image title check: ['water_1416.jpg', 'water_2320.jpg', 'water_1786.jpg', 'water_2028.jpg', 'water_984.jpg'] \n",
      "\n"
     ]
    }
   ],
   "source": [
    "# also changing the name of \"SeaLake\" images to \"water\" to avoid confusion\n",
    "pattern1 = r\"SeaLake_(\\d+)\"  # pattern provided by ChatGPT\n",
    "\n",
    "for filename in water_img_lst:\n",
    "    match = re.match(pattern1, filename)\n",
    "    if match:\n",
    "        num = match.group(1)  # keeping number part intact\n",
    "        new_filename = f\"water_{num}.jpg\"  # defining new filename\n",
    "        os.rename(os.path.join(water_train + \"/\" + filename), (water_train + \"/\" + new_filename))\n",
    "    else:\n",
    "        continue\n",
    "\n",
    "# redefining cloudy image list with new file names\n",
    "water_img_lst = os.listdir(\"data/train/water\")\n",
    "\n",
    "# double-checking\n",
    "print(\"Water image title check:\", sample(water_img_lst, 5), \"\\n\")"
   ]
  },
  {
   "cell_type": "code",
   "execution_count": 9,
   "metadata": {},
   "outputs": [
    {
     "name": "stdout",
     "output_type": "stream",
     "text": [
      "count_cloudy: 1500\n",
      "count_desert: 1131\n",
      "count_water: 1500\n",
      "count_cloudy: 1500 \n",
      "\n",
      "count_all: 5631\n"
     ]
    }
   ],
   "source": [
    "print(\"count_cloudy:\", len(cloudy_img_lst))\n",
    "print(\"count_desert:\", len(desert_img_lst))\n",
    "print(\"count_water:\", len(water_img_lst))\n",
    "print(\"count_cloudy:\", len(water_img_lst), \"\\n\")\n",
    "print(\"count_all:\", len(cloudy_img_lst + desert_img_lst + forest_img_lst + water_img_lst))"
   ]
  },
  {
   "cell_type": "code",
   "execution_count": 10,
   "metadata": {},
   "outputs": [],
   "source": [
    "# creating dataframe with image names and categories\n",
    "image_df = pd.DataFrame(columns = [\"img_name\", \"img_class\"])\n",
    "\n",
    "# list with all image names\n",
    "img_list = cloudy_img_lst + desert_img_lst + forest_img_lst + water_img_lst\n",
    "\n",
    "# filling out image name column\n",
    "image_df[\"img_name\"] = img_list"
   ]
  },
  {
   "cell_type": "code",
   "execution_count": 11,
   "metadata": {},
   "outputs": [
    {
     "data": {
      "text/html": [
       "<div>\n",
       "<style scoped>\n",
       "    .dataframe tbody tr th:only-of-type {\n",
       "        vertical-align: middle;\n",
       "    }\n",
       "\n",
       "    .dataframe tbody tr th {\n",
       "        vertical-align: top;\n",
       "    }\n",
       "\n",
       "    .dataframe thead th {\n",
       "        text-align: right;\n",
       "    }\n",
       "</style>\n",
       "<table border=\"1\" class=\"dataframe\">\n",
       "  <thead>\n",
       "    <tr style=\"text-align: right;\">\n",
       "      <th></th>\n",
       "      <th>img_name</th>\n",
       "      <th>img_class</th>\n",
       "    </tr>\n",
       "  </thead>\n",
       "  <tbody>\n",
       "    <tr>\n",
       "      <th>0</th>\n",
       "      <td>cloudy_10021.jpg</td>\n",
       "      <td>cloudy</td>\n",
       "    </tr>\n",
       "    <tr>\n",
       "      <th>1</th>\n",
       "      <td>cloudy_10043.jpg</td>\n",
       "      <td>cloudy</td>\n",
       "    </tr>\n",
       "    <tr>\n",
       "      <th>2</th>\n",
       "      <td>cloudy_10070.jpg</td>\n",
       "      <td>cloudy</td>\n",
       "    </tr>\n",
       "    <tr>\n",
       "      <th>3</th>\n",
       "      <td>cloudy_10081.jpg</td>\n",
       "      <td>cloudy</td>\n",
       "    </tr>\n",
       "    <tr>\n",
       "      <th>4</th>\n",
       "      <td>cloudy_10096.jpg</td>\n",
       "      <td>cloudy</td>\n",
       "    </tr>\n",
       "    <tr>\n",
       "      <th>...</th>\n",
       "      <td>...</td>\n",
       "      <td>...</td>\n",
       "    </tr>\n",
       "    <tr>\n",
       "      <th>5626</th>\n",
       "      <td>water_995.jpg</td>\n",
       "      <td>water</td>\n",
       "    </tr>\n",
       "    <tr>\n",
       "      <th>5627</th>\n",
       "      <td>water_996.jpg</td>\n",
       "      <td>water</td>\n",
       "    </tr>\n",
       "    <tr>\n",
       "      <th>5628</th>\n",
       "      <td>water_997.jpg</td>\n",
       "      <td>water</td>\n",
       "    </tr>\n",
       "    <tr>\n",
       "      <th>5629</th>\n",
       "      <td>water_998.jpg</td>\n",
       "      <td>water</td>\n",
       "    </tr>\n",
       "    <tr>\n",
       "      <th>5630</th>\n",
       "      <td>water_999.jpg</td>\n",
       "      <td>water</td>\n",
       "    </tr>\n",
       "  </tbody>\n",
       "</table>\n",
       "<p>5631 rows × 2 columns</p>\n",
       "</div>"
      ],
      "text/plain": [
       "              img_name img_class\n",
       "0     cloudy_10021.jpg    cloudy\n",
       "1     cloudy_10043.jpg    cloudy\n",
       "2     cloudy_10070.jpg    cloudy\n",
       "3     cloudy_10081.jpg    cloudy\n",
       "4     cloudy_10096.jpg    cloudy\n",
       "...                ...       ...\n",
       "5626     water_995.jpg     water\n",
       "5627     water_996.jpg     water\n",
       "5628     water_997.jpg     water\n",
       "5629     water_998.jpg     water\n",
       "5630     water_999.jpg     water\n",
       "\n",
       "[5631 rows x 2 columns]"
      ]
     },
     "execution_count": 11,
     "metadata": {},
     "output_type": "execute_result"
    }
   ],
   "source": [
    "# regex patterns to fill \"class\" column\n",
    "pattern_cl = r\"^cloudy\"\n",
    "pattern_des = r\"^desert\"\n",
    "pattern_gr = r\"^Forest\"\n",
    "pattern_wa = r\"^water\"\n",
    "\n",
    "# filling out class column\n",
    "for file_name in image_df.img_name:\n",
    "    # match objects or None\n",
    "    match1 = re.search(pattern_cl, str(file_name))\n",
    "    match2 = re.search(pattern_des, str(file_name))\n",
    "    match3 = re.search(pattern_gr, str(file_name))\n",
    "    match4 = re.search(pattern_wa, str(file_name))\n",
    "    if match1:\n",
    "        image_df[\"img_class\"].loc[image_df[\"img_name\"]==file_name] = str(match1.group(0))\n",
    "    elif match2:\n",
    "        image_df[\"img_class\"].loc[image_df[\"img_name\"]==file_name] = str(match2.group(0))\n",
    "    elif match3:\n",
    "        image_df[\"img_class\"].loc[image_df[\"img_name\"]==file_name] = str(match3.group(0))\n",
    "    elif match4:\n",
    "        image_df[\"img_class\"].loc[image_df[\"img_name\"]==file_name] = str(match4.group(0))\n",
    "    else:\n",
    "        continue\n",
    "\n",
    "image_df"
   ]
  },
  {
   "cell_type": "code",
   "execution_count": 12,
   "metadata": {},
   "outputs": [
    {
     "data": {
      "text/plain": [
       "img_name     0\n",
       "img_class    0\n",
       "dtype: int64"
      ]
     },
     "execution_count": 12,
     "metadata": {},
     "output_type": "execute_result"
    }
   ],
   "source": [
    "# checking to see if all rows were filled\n",
    "image_df.isna().sum()"
   ]
  },
  {
   "cell_type": "code",
   "execution_count": 13,
   "metadata": {},
   "outputs": [],
   "source": [
    "# # taking a closer look into the filenames\n",
    "# for name in image_df.img_name:\n",
    "#     sys.stdout.write(name + \"\\n\")"
   ]
  },
  {
   "cell_type": "markdown",
   "metadata": {},
   "source": [
    "<font color = \"dimgray\">Some of the images in the desert folder seem to be duplicated as pairs like \"desert(1007).jpg\" and \"desert(1007) (1).jpg\" exist. What is more, the filenames of only this folder are written in a different folder<font>"
   ]
  },
  {
   "cell_type": "code",
   "execution_count": 14,
   "metadata": {},
   "outputs": [
    {
     "data": {
      "image/jpeg": "[encoded data removed]",
      "text/plain": [
       "<IPython.core.display.Image object>"
      ]
     },
     "execution_count": 14,
     "metadata": {
      "image/jpeg": {
       "width": 200
      }
     },
     "output_type": "execute_result"
    }
   ],
   "source": [
    "# checking visually\n",
    "ipimage(desert_train + \"/\" + \"desert(1007).jpg\", width=200)"
   ]
  },
  {
   "cell_type": "code",
   "execution_count": 15,
   "metadata": {},
   "outputs": [
    {
     "data": {
      "image/jpeg": "[encoded data removed]",
      "text/plain": [
       "<IPython.core.display.Image object>"
      ]
     },
     "execution_count": 15,
     "metadata": {
      "image/jpeg": {
       "width": 200
      }
     },
     "output_type": "execute_result"
    }
   ],
   "source": [
    "ipimage(desert_train + \"/\" + \"desert(1007) (1).jpg\", width=200)"
   ]
  },
  {
   "cell_type": "code",
   "execution_count": 16,
   "metadata": {},
   "outputs": [
    {
     "name": "stdout",
     "output_type": "stream",
     "text": [
      "The same\n"
     ]
    }
   ],
   "source": [
    "# double-checking with code\n",
    "try:\n",
    "    ipimage(desert_train + \"/\" + \"desert(1007).jpg\", width=200) == ipimage(desert_train + \"/\" + \"desert(1007) (1).jpg\", width=200)\n",
    "except:\n",
    "    print(\"Not the same\")\n",
    "else:\n",
    "    print(\"The same\")"
   ]
  },
  {
   "cell_type": "code",
   "execution_count": 17,
   "metadata": {},
   "outputs": [],
   "source": [
    "# Disposing of spaces in names and standardizing name format\n",
    "pattern_s = r\"\\s\\(\\d+\\)\" # regex writtern with the help of ChatGPT\n",
    "\n",
    "# Dirs to iterate upon\n",
    "list_paths_train = [cloudy_train, desert_train, forest_train, water_train]\n",
    "\n",
    "# Iterating on each path\n",
    "for the_dir in list_paths_train:\n",
    "    # Iterating for each filename in the dataframe \n",
    "    for filename in image_df.img_name:\n",
    "        # File directory\n",
    "        the_file = the_dir + \"/\" + filename\n",
    "        # Checking first if file directory exists\n",
    "        if os.path.exists(the_file):\n",
    "            # If exists check if pattern matches\n",
    "            match = re.search(pattern_s, filename)\n",
    "            if match:\n",
    "                # Removing image from dir\n",
    "                os.remove(the_file)\n",
    "                # Removing its record from image_df\n",
    "                image_df = image_df.drop(image_df.loc[image_df[\"img_name\"] == filename].index)\n",
    "            elif not match:\n",
    "                # If image is no duplicate, just standardize its name\n",
    "                new_filename = filename.replace(\"(\", \"_\", 1).replace(\"(\", \"\").replace(\")\", \"\").lower()\n",
    "                os.rename(os.path.join(the_dir + \"/\" + filename), (the_dir + \"/\" + new_filename))\n",
    "        # If path doesn't exist, i.e. file is in different path\n",
    "        else:\n",
    "            continue"
   ]
  },
  {
   "cell_type": "code",
   "execution_count": 18,
   "metadata": {},
   "outputs": [
    {
     "data": {
      "text/html": [
       "<div>\n",
       "<style scoped>\n",
       "    .dataframe tbody tr th:only-of-type {\n",
       "        vertical-align: middle;\n",
       "    }\n",
       "\n",
       "    .dataframe tbody tr th {\n",
       "        vertical-align: top;\n",
       "    }\n",
       "\n",
       "    .dataframe thead th {\n",
       "        text-align: right;\n",
       "    }\n",
       "</style>\n",
       "<table border=\"1\" class=\"dataframe\">\n",
       "  <thead>\n",
       "    <tr style=\"text-align: right;\">\n",
       "      <th></th>\n",
       "      <th>img_name</th>\n",
       "      <th>img_class</th>\n",
       "    </tr>\n",
       "  </thead>\n",
       "  <tbody>\n",
       "    <tr>\n",
       "      <th>0</th>\n",
       "      <td>cloudy_17556.jpg</td>\n",
       "      <td>cloudy</td>\n",
       "    </tr>\n",
       "    <tr>\n",
       "      <th>1</th>\n",
       "      <td>cloudy_25127.jpg</td>\n",
       "      <td>cloudy</td>\n",
       "    </tr>\n",
       "    <tr>\n",
       "      <th>2</th>\n",
       "      <td>cloudy_15562.jpg</td>\n",
       "      <td>cloudy</td>\n",
       "    </tr>\n",
       "    <tr>\n",
       "      <th>3</th>\n",
       "      <td>water_1147.jpg</td>\n",
       "      <td>water</td>\n",
       "    </tr>\n",
       "    <tr>\n",
       "      <th>4</th>\n",
       "      <td>water_1788.jpg</td>\n",
       "      <td>water</td>\n",
       "    </tr>\n",
       "    <tr>\n",
       "      <th>...</th>\n",
       "      <td>...</td>\n",
       "      <td>...</td>\n",
       "    </tr>\n",
       "    <tr>\n",
       "      <th>5587</th>\n",
       "      <td>water_2544.jpg</td>\n",
       "      <td>water</td>\n",
       "    </tr>\n",
       "    <tr>\n",
       "      <th>5588</th>\n",
       "      <td>forest_2208.jpg</td>\n",
       "      <td>forest</td>\n",
       "    </tr>\n",
       "    <tr>\n",
       "      <th>5589</th>\n",
       "      <td>desert_490.jpg</td>\n",
       "      <td>desert</td>\n",
       "    </tr>\n",
       "    <tr>\n",
       "      <th>5590</th>\n",
       "      <td>forest_2058.jpg</td>\n",
       "      <td>forest</td>\n",
       "    </tr>\n",
       "    <tr>\n",
       "      <th>5591</th>\n",
       "      <td>water_261.jpg</td>\n",
       "      <td>water</td>\n",
       "    </tr>\n",
       "  </tbody>\n",
       "</table>\n",
       "<p>5592 rows × 2 columns</p>\n",
       "</div>"
      ],
      "text/plain": [
       "              img_name img_class\n",
       "0     cloudy_17556.jpg    cloudy\n",
       "1     cloudy_25127.jpg    cloudy\n",
       "2     cloudy_15562.jpg    cloudy\n",
       "3       water_1147.jpg     water\n",
       "4       water_1788.jpg     water\n",
       "...                ...       ...\n",
       "5587    water_2544.jpg     water\n",
       "5588   forest_2208.jpg    forest\n",
       "5589    desert_490.jpg    desert\n",
       "5590   forest_2058.jpg    forest\n",
       "5591     water_261.jpg     water\n",
       "\n",
       "[5592 rows x 2 columns]"
      ]
     },
     "execution_count": 18,
     "metadata": {},
     "output_type": "execute_result"
    }
   ],
   "source": [
    "# applying name standardization to the df\n",
    "for column in image_df.columns:\n",
    "    image_df[column] = image_df[column].apply(lambda x : str(x).replace(\"(\", \"_\", 1).replace(\"(\", \"\").replace(\")\", \"\").lower())\n",
    "\n",
    "image_df = image_df.sample(frac = 1).reset_index(drop = True)\n",
    "image_df"
   ]
  },
  {
   "cell_type": "code",
   "execution_count": 19,
   "metadata": {},
   "outputs": [
    {
     "name": "stdout",
     "output_type": "stream",
     "text": [
      "Maximum image size: [256, 256]\n",
      "Minimum image size: [64, 64]\n"
     ]
    }
   ],
   "source": [
    "# Before moving on to potential changes in the folders, let's make sure we know the min and max image sizes, in case resizing needs to be performed\n",
    "# Tuple pairs of paths for directories and lists of names per directory. Tuples are highly convenient, as they allow for targeting only specific folders\n",
    "# during iterations, instead of going over all potential directories with conditionals to find out whether they exist or not\n",
    "# Since the names of the files have changed, the lists of files must be adapted accordingly\n",
    "cloudy_img_lst = os.listdir(\"data/train/cloudy\")\n",
    "desert_img_lst = os.listdir(\"data/train/desert\")\n",
    "forest_img_lst = os.listdir(\"data/train/green_area\")\n",
    "water_img_lst = os.listdir(\"data/train/water\")\n",
    "\n",
    "cloudy_siz_tup = cloudy_train, cloudy_img_lst\n",
    "desert_siz_tup = desert_train, desert_img_lst\n",
    "forest_siz_tup = forest_train, forest_img_lst\n",
    "water_siz_tup = water_train, water_img_lst\n",
    "\n",
    "\n",
    "# List to store dimensions of images\n",
    "size_list = []\n",
    "\n",
    "# Iterating on tuple list\n",
    "for pair in [cloudy_siz_tup, desert_siz_tup, forest_siz_tup, water_siz_tup]:\n",
    "    # Iterating on image list\n",
    "    for filename in pair[1]:\n",
    "        # Getting item from path using second item in tuple\n",
    "        img_get = Image.open(pair[0] + \"/\" + filename)\n",
    "        # Storing image size\n",
    "        img_size = img_get.size\n",
    "        size_list.append(img_size)\n",
    "\n",
    "# Storing max and min sizes \n",
    "res_max = list(map(max, zip(*size_list)))\n",
    "res_min = list(map(min, zip(*size_list)))\n",
    "\n",
    "print(\"Maximum image size:\", res_max)\n",
    "print(\"Minimum image size:\", res_min)"
   ]
  },
  {
   "cell_type": "code",
   "execution_count": 5,
   "metadata": {},
   "outputs": [],
   "source": [
    "#image_df.to_csv(\"data/image_df.csv\", index=0)\n",
    "image_df = pd.read_csv(\"data/image_df.csv\")"
   ]
  },
  {
   "cell_type": "markdown",
   "metadata": {},
   "source": [
    "## <font color = \"lightseagreen\">3. Addressing Data Imbalance<font>"
   ]
  },
  {
   "cell_type": "code",
   "execution_count": 22,
   "metadata": {},
   "outputs": [
    {
     "data": {
      "text/plain": [
       "cloudy    1500\n",
       "water     1500\n",
       "forest    1500\n",
       "desert    1092\n",
       "Name: img_class, dtype: int64"
      ]
     },
     "execution_count": 22,
     "metadata": {},
     "output_type": "execute_result"
    }
   ],
   "source": [
    "# let's take a look at the value counts\n",
    "image_df[\"img_class\"].value_counts()"
   ]
  },
  {
   "cell_type": "markdown",
   "metadata": {},
   "source": [
    "<font color = \"dimgray\">The desert class was already under-represented, but after the removal of duplicate images, it  became even more so.<font>"
   ]
  },
  {
   "cell_type": "markdown",
   "metadata": {},
   "source": [
    "<font color = \"dimgray\">2 folders will be used. One for the baseline models using the imbalanced data and one for the models using the balanced data.<font>"
   ]
  },
  {
   "cell_type": "code",
   "execution_count": 6,
   "metadata": {},
   "outputs": [],
   "source": [
    "# Creating path\n",
    "data_balance = os.path.join(os.getcwd(), \"data_balance\")\n",
    "\n",
    "# Copying data\n",
    "# dest = shutil.copytree(data_path, data_balance)\n",
    "\n",
    "# Checking that tree has been copied\n",
    "# print(os.listdir(data_balance))\n",
    "\n",
    "# image_df.csv was also copied but can easily just be deleted manually which will also be the case"
   ]
  },
  {
   "cell_type": "code",
   "execution_count": 7,
   "metadata": {},
   "outputs": [],
   "source": [
    "# defining new paths for the image folders\n",
    "cloudy_btrain = os.path.join(data_balance, \"train/cloudy\")\n",
    "desert_btrain = os.path.join(data_balance, \"train/desert\")\n",
    "forest_btrain = os.path.join(data_balance, \"train/green_area\")\n",
    "water_btrain = os.path.join(data_balance, \"train/water\")\n",
    "\n",
    "# defining new validation directories to be created\n",
    "cloudy_bvalid = os.path.join(data_balance, \"valid/cloudy\")\n",
    "desert_bvalid = os.path.join(data_balance, \"valid/desert\")\n",
    "forest_bvalid = os.path.join(data_balance, \"valid/green_area\")\n",
    "water_bvalid = os.path.join(data_balance, \"valid/water\")\n",
    "\n",
    "# defining new test directory to be created\n",
    "balanced_test_dir = os.path.join(data_balance, \"test/test\")\n",
    "\n",
    "# fixing them up so they don't get overwritten\n",
    "fix_valid_test_dirs([cloudy_bvalid, desert_bvalid, forest_bvalid, water_bvalid], balanced_test_dir)"
   ]
  },
  {
   "cell_type": "code",
   "execution_count": 26,
   "metadata": {},
   "outputs": [],
   "source": [
    "# Balancing the data in this case can easily be done by limiting the number of files to process\n",
    "#  for the over-represented classes to that of the under-represented one\n",
    "# A simple way to do that is to sample the data using the index at our disposal (image_df)\n",
    "sample_cloudy = image_df[image_df[\"img_class\"]==\"cloudy\"].sample(1092)\n",
    "sample_forest = image_df[image_df[\"img_class\"]==\"forest\"].sample(1092)\n",
    "sample_water = image_df[image_df[\"img_class\"]==\"water\"].sample(1092)"
   ]
  },
  {
   "cell_type": "code",
   "execution_count": 27,
   "metadata": {},
   "outputs": [
    {
     "data": {
      "text/html": [
       "<div>\n",
       "<style scoped>\n",
       "    .dataframe tbody tr th:only-of-type {\n",
       "        vertical-align: middle;\n",
       "    }\n",
       "\n",
       "    .dataframe tbody tr th {\n",
       "        vertical-align: top;\n",
       "    }\n",
       "\n",
       "    .dataframe thead th {\n",
       "        text-align: right;\n",
       "    }\n",
       "</style>\n",
       "<table border=\"1\" class=\"dataframe\">\n",
       "  <thead>\n",
       "    <tr style=\"text-align: right;\">\n",
       "      <th></th>\n",
       "      <th>img_name</th>\n",
       "      <th>img_class</th>\n",
       "    </tr>\n",
       "  </thead>\n",
       "  <tbody>\n",
       "    <tr>\n",
       "      <th>0</th>\n",
       "      <td>forest_963.jpg</td>\n",
       "      <td>forest</td>\n",
       "    </tr>\n",
       "    <tr>\n",
       "      <th>1</th>\n",
       "      <td>water_274.jpg</td>\n",
       "      <td>water</td>\n",
       "    </tr>\n",
       "    <tr>\n",
       "      <th>2</th>\n",
       "      <td>forest_2307.jpg</td>\n",
       "      <td>forest</td>\n",
       "    </tr>\n",
       "    <tr>\n",
       "      <th>3</th>\n",
       "      <td>forest_892.jpg</td>\n",
       "      <td>forest</td>\n",
       "    </tr>\n",
       "    <tr>\n",
       "      <th>4</th>\n",
       "      <td>desert_532.jpg</td>\n",
       "      <td>desert</td>\n",
       "    </tr>\n",
       "    <tr>\n",
       "      <th>...</th>\n",
       "      <td>...</td>\n",
       "      <td>...</td>\n",
       "    </tr>\n",
       "    <tr>\n",
       "      <th>4363</th>\n",
       "      <td>water_2922.jpg</td>\n",
       "      <td>water</td>\n",
       "    </tr>\n",
       "    <tr>\n",
       "      <th>4364</th>\n",
       "      <td>desert_476.jpg</td>\n",
       "      <td>desert</td>\n",
       "    </tr>\n",
       "    <tr>\n",
       "      <th>4365</th>\n",
       "      <td>water_2897.jpg</td>\n",
       "      <td>water</td>\n",
       "    </tr>\n",
       "    <tr>\n",
       "      <th>4366</th>\n",
       "      <td>cloudy_1194.jpg</td>\n",
       "      <td>cloudy</td>\n",
       "    </tr>\n",
       "    <tr>\n",
       "      <th>4367</th>\n",
       "      <td>water_2760.jpg</td>\n",
       "      <td>water</td>\n",
       "    </tr>\n",
       "  </tbody>\n",
       "</table>\n",
       "<p>4368 rows × 2 columns</p>\n",
       "</div>"
      ],
      "text/plain": [
       "             img_name img_class\n",
       "0      forest_963.jpg    forest\n",
       "1       water_274.jpg     water\n",
       "2     forest_2307.jpg    forest\n",
       "3      forest_892.jpg    forest\n",
       "4      desert_532.jpg    desert\n",
       "...               ...       ...\n",
       "4363   water_2922.jpg     water\n",
       "4364   desert_476.jpg    desert\n",
       "4365   water_2897.jpg     water\n",
       "4366  cloudy_1194.jpg    cloudy\n",
       "4367   water_2760.jpg     water\n",
       "\n",
       "[4368 rows x 2 columns]"
      ]
     },
     "execution_count": 27,
     "metadata": {},
     "output_type": "execute_result"
    }
   ],
   "source": [
    "# putting the collection together\n",
    "balanced_df = pd.concat([sample_cloudy, sample_forest, sample_water, image_df[image_df[\"img_class\"]==\"desert\"]], axis = 0).sample(frac = 1).reset_index(drop = True)\n",
    "balanced_df"
   ]
  },
  {
   "cell_type": "code",
   "execution_count": 48,
   "metadata": {},
   "outputs": [
    {
     "data": {
      "text/plain": [
       "forest    1092\n",
       "water     1092\n",
       "desert    1092\n",
       "cloudy    1092\n",
       "Name: img_class, dtype: int64"
      ]
     },
     "execution_count": 48,
     "metadata": {},
     "output_type": "execute_result"
    }
   ],
   "source": [
    "balanced_df[\"img_class\"].value_counts()"
   ]
  },
  {
   "cell_type": "code",
   "execution_count": 8,
   "metadata": {},
   "outputs": [],
   "source": [
    "#balanced_df.to_csv(\"data_balance/balanced_df.csv\", index = 0)\n",
    "balanced_df = pd.read_csv(\"data_balance/balanced_df.csv\")"
   ]
  },
  {
   "cell_type": "markdown",
   "metadata": {},
   "source": [
    "<font color = \"dimgray\">First let's tidy up the folders by deleting images not existing in the dataframe.<font>"
   ]
  },
  {
   "cell_type": "code",
   "execution_count": 49,
   "metadata": {},
   "outputs": [],
   "source": [
    "dir_bcloudy = os.listdir(cloudy_btrain)\n",
    "dir_bdesert = os.listdir(desert_btrain)\n",
    "dir_bgreen = os.listdir(forest_btrain)\n",
    "dir_bwater = os.listdir(water_btrain)"
   ]
  },
  {
   "cell_type": "code",
   "execution_count": 29,
   "metadata": {},
   "outputs": [],
   "source": [
    "# Dirs to iterate on\n",
    "paths_list = [cloudy_btrain, desert_btrain, forest_btrain, water_btrain]\n",
    "folders = [dir_bcloudy, dir_bdesert, dir_bgreen, dir_bwater]\n",
    "\n",
    "# Iterating on each folder dir\n",
    "for i in range(0,len(folders)):\n",
    "    folder = folders[i]\n",
    "    path = paths_list[i]\n",
    "    # Iterating on file in the folder\n",
    "    for folder_filename in folder:\n",
    "        # File directory\n",
    "        the_file = path + \"/\" + folder_filename\n",
    "        # Checking first if file directory exists\n",
    "        if os.path.exists(the_file):\n",
    "            # If exists in list\n",
    "            if folder_filename in balanced_df.img_name.unique().tolist():\n",
    "                # Keep image\n",
    "                continue\n",
    "            else:\n",
    "                os.remove(the_file)\n",
    "        # If path doesn't exist, i.e. file is in different path\n",
    "        else:\n",
    "            continue"
   ]
  },
  {
   "cell_type": "markdown",
   "metadata": {},
   "source": [
    "## <font color = \"lightseagreen\">4. Train-test split<font>"
   ]
  },
  {
   "cell_type": "code",
   "execution_count": 37,
   "metadata": {},
   "outputs": [],
   "source": [
    "# Function to sample images from the different classes\n",
    "def names_per_class(df, class_column, name_column):\n",
    "    # sorted list of classes\n",
    "    class_list = df[class_column].unique()\n",
    "    class_list.sort()\n",
    "    # list to store lists\n",
    "    nested_class_lists = []\n",
    "    # storing lists in class_nested_lists\n",
    "    for each_class in class_list:\n",
    "        class_images = list(df[df[class_column]==each_class][name_column])\n",
    "        nested_class_lists.append(class_images)\n",
    "    \n",
    "    return nested_class_lists\n",
    "\n",
    "# Function to sample names following names_per_class() function\n",
    "def name_sampler(nested_class_lists, percentage):\n",
    "    # list to store samples\n",
    "    nested_samples = []\n",
    "    for each_list in nested_class_lists:\n",
    "        random.seed(400)\n",
    "        list_class_sample = sample(each_list, int(len(each_list) * percentage))\n",
    "        nested_samples.append(list_class_sample)\n",
    "    \n",
    "    return nested_samples\n",
    "\n",
    "# Function for moving images\n",
    "def move_img(img_list, source, destination):\n",
    "    for name in img_list:\n",
    "        shutil.move(source + \"/\" + name, destination +  \"/\" + name)"
   ]
  },
  {
   "cell_type": "code",
   "execution_count": 38,
   "metadata": {},
   "outputs": [],
   "source": [
    "# Function to train-validation-test split\n",
    "#### CAN USE IMPROVEMENTS --> ITERATE ON CLASS_LISTS AND SAMPLES, APPEND THEM TO LIST, SAME FOR TUPLES, ADD PART AND ARGUMENTS THAT CREATE TUPLES IN FUNCTION ####\n",
    "def homemade_split(df, class_column, name_column, valid_source_dest_tuple_list, test_dest, split_percent=.2): # setting default for overall splitting to validation/test sets to 20%\n",
    "    \n",
    "\n",
    "    # writing image names in lists\n",
    "    nested_lists_fraction_1 = names_per_class(df, class_column, name_column)\n",
    "    \n",
    "    # storing random sample of 25% of names of items in lists to be moved  in validation folder in new lists\n",
    "    name_samples = name_sampler(nested_lists_fraction_1, split_percent)  # further splitting the percentage of data to keep only half of the initial split for validation set\n",
    "    \n",
    "    split_name_list = []\n",
    "    for name_sample in name_samples:\n",
    "        # dividing name lists by 2 for validation and test sets\n",
    "        valid_frac = name_sample[:int(len(name_sample)/2)]\n",
    "        test_frac = name_sample[int(len(name_sample)/2):]\n",
    "        # saving each pair of lists in a tuple for easy access\n",
    "        name_sample_tup = valid_frac, test_frac\n",
    "        # saving the 4 tuples in a new list\n",
    "        split_name_list.append(name_sample_tup)\n",
    "        \n",
    "    # creating lists for validation and test sets by merging the 4 subsets\n",
    "    valid_list_names = [*split_name_list[0][0], *split_name_list[1][0], *split_name_list[2][0], *split_name_list[3][0]]\n",
    "    test_list_names = [*split_name_list[0][1], *split_name_list[1][1], *split_name_list[2][1], *split_name_list[3][1]]\n",
    "    \n",
    "    # deviding split sample by 2 for validation-test sets\n",
    "    df_fraction_valid = df[df[name_column].isin(valid_list_names)]\n",
    "    df_fraction_test = df[df[name_column].isin(test_list_names)]\n",
    "    \n",
    "    # this list will be used to subtract columns from training dataframe\n",
    "    name_sample_mixed = [*name_samples[0], *name_samples[1], *name_samples[2], *name_samples[3]]\n",
    "    \n",
    "    # redefining train_df with remaining rows\n",
    "    train_df = df[~df[name_column].isin(name_sample_mixed)].reset_index(drop=True)\n",
    "    \n",
    "    # writing image names in lists\n",
    "    nested_name_lists_valid = names_per_class(df_fraction_valid, class_column, name_column)\n",
    "\n",
    "    # creating tuples with (sample, source, destination) for validation data\n",
    "    tuple_1 = nested_name_lists_valid[0], valid_source_dest_tuple_list[0][0], valid_source_dest_tuple_list[0][1]\n",
    "    tuple_2 = nested_name_lists_valid[1], valid_source_dest_tuple_list[1][0], valid_source_dest_tuple_list[1][1]\n",
    "    tuple_3 = nested_name_lists_valid[2], valid_source_dest_tuple_list[2][0], valid_source_dest_tuple_list[2][1]\n",
    "    tuple_4 = nested_name_lists_valid[3], valid_source_dest_tuple_list[3][0], valid_source_dest_tuple_list[3][1]\n",
    "    \n",
    "    # putting tuples in a list\n",
    "    tuples = [tuple_1, tuple_2, tuple_3, tuple_4]\n",
    "\n",
    "    # moving to validation dirs\n",
    "    for tuple_trio in tuples:\n",
    "        move_img(tuple_trio[0], tuple_trio[1], tuple_trio[2])\n",
    "\n",
    "\n",
    "    # repeating above steps for test folder\n",
    "    nested_lists_test = names_per_class(df_fraction_test, class_column, name_column)\n",
    "    \n",
    "    # create source path list and name_list list\n",
    "    source_path_list = [valid_source_dest_tuple_list[0][0], valid_source_dest_tuple_list[1][0], valid_source_dest_tuple_list[2][0], valid_source_dest_tuple_list[3][0]]\n",
    "    \n",
    "    # move files of test fraction to test folder\n",
    "    i = 0\n",
    "    for source_path in source_path_list:\n",
    "        move_img(split_name_list[i][1], source_path, test_dest)\n",
    "        i += 1\n",
    "\n",
    "    \n",
    "    return train_df, df_fraction_valid, df_fraction_test"
   ]
  },
  {
   "cell_type": "code",
   "execution_count": null,
   "metadata": {},
   "outputs": [],
   "source": [
    "# (source, destination) tuples for imbalanced data\n",
    "imb_cl_tuple = cloudy_train, cloudy_valid\n",
    "imb_des_tuple = desert_train, desert_valid\n",
    "imb_gr_tuple = forest_train, forest_valid\n",
    "imb_wat_tuple = water_train, water_valid\n",
    "\n",
    "# Tuple list for imbalanced validation data\n",
    "imbalanced_tuple_list = [imb_cl_tuple, imb_des_tuple, imb_gr_tuple, imb_wat_tuple]\n",
    "\n",
    "# Splitting imbalanced data\n",
    "imbalanced_train, imbalanced_valid, imbalanced_test = homemade_split(image_df, \"img_class\", \"img_name\", imbalanced_tuple_list, imbalanced_test_dir)"
   ]
  },
  {
   "cell_type": "code",
   "execution_count": 35,
   "metadata": {},
   "outputs": [
    {
     "name": "stdout",
     "output_type": "stream",
     "text": [
      "Length of train set:      4474 of which \n",
      "                          1200 cloudy \n",
      "                          874 desert \n",
      "                          1200 forest \n",
      "                          1200 water\n",
      "Length of validation set: 559 of which \n",
      "                          150 cloudy \n",
      "                          109 desert \n",
      "                          150 forest \n",
      "                          150 water \n",
      "\n",
      "Length of test set:       559 mixed\n"
     ]
    }
   ],
   "source": [
    "# indentation trick found at https://stackoverflow.com/questions/18756510/printing-with-indentation-in-python\n",
    "print(\"Length of train set:\", f\"{'':<5}{len(imbalanced_train)}\", \"of which\", \"\\n\",\n",
    "      f\"{'':<25}{len(imbalanced_train[imbalanced_train['img_class']=='cloudy'])}\", \"cloudy\", \"\\n\",\n",
    "         f\"{'':<25}{len(imbalanced_train[imbalanced_train['img_class']=='desert'])}\", \"desert\", \"\\n\", \n",
    "         f\"{'':<25}{len(imbalanced_train[imbalanced_train['img_class']=='forest'])}\", \"forest\", \"\\n\",\n",
    "         f\"{'':<25}{len(imbalanced_train[imbalanced_train['img_class']=='water'])}\", \"water\")\n",
    "\n",
    "print(\"Length of validation set:\", len(imbalanced_valid[\"img_class\"]), \"of which\", \"\\n\",\n",
    "      f\"{'':<25}{len(imbalanced_valid[imbalanced_valid['img_class']=='cloudy'])}\", \"cloudy\", \"\\n\",\n",
    "         f\"{'':<25}{len(imbalanced_valid[imbalanced_valid['img_class']=='desert'])}\", \"desert\", \"\\n\", \n",
    "         f\"{'':<25}{len(imbalanced_valid[imbalanced_valid['img_class']=='forest'])}\", \"forest\", \"\\n\",\n",
    "         f\"{'':<25}{len(imbalanced_valid[imbalanced_valid['img_class']=='water'])}\", \"water\", \"\\n\")\n",
    "\n",
    "print(\"Length of test set:\", f\"{'':<6}{len(imbalanced_test)}\", \"mixed\")"
   ]
  },
  {
   "cell_type": "code",
   "execution_count": 57,
   "metadata": {},
   "outputs": [],
   "source": [
    "# file operations are costly timewise and must be precise. saving dfs to csv to avoid having to use listdir with each new session\n",
    "#imbalanced_train.to_csv(\"data/imbalanced_train.csv\", index = 0)\n",
    "#imbalanced_valid.to_csv(\"data/imbalanced_valid.csv\", index = 0)\n",
    "#imbalanced_test.to_csv(\"data/imbalanced_test.csv\", index = 0)"
   ]
  },
  {
   "cell_type": "code",
   "execution_count": 8,
   "metadata": {},
   "outputs": [],
   "source": [
    "imbalanced_train = pd.read_csv(\"data/imbalanced_train.csv\")\n",
    "imbalanced_valid = pd.read_csv(\"data/imbalanced_valid.csv\")\n",
    "imbalanced_test = pd.read_csv(\"data/imbalanced_test.csv\")"
   ]
  },
  {
   "cell_type": "code",
   "execution_count": 50,
   "metadata": {},
   "outputs": [],
   "source": [
    "# (source, destination) tuples for balanced data\n",
    "bal_cl_tuple = cloudy_btrain, cloudy_bvalid\n",
    "bal_des_tuple = desert_btrain, desert_bvalid\n",
    "bal_gr_tuple = forest_btrain, forest_bvalid\n",
    "bal_wat_tuple = water_btrain, water_bvalid\n",
    "\n",
    "# Tuple list for balanced data\n",
    "balanced_tuple_list = [bal_cl_tuple, bal_des_tuple, bal_gr_tuple, bal_wat_tuple]\n",
    "\n",
    "# Splitting balanced data\n",
    "balanced_train, balanced_valid, balanced_test = homemade_split(balanced_df, \"img_class\", \"img_name\", balanced_tuple_list, balanced_test_dir)"
   ]
  },
  {
   "cell_type": "code",
   "execution_count": 53,
   "metadata": {},
   "outputs": [
    {
     "name": "stdout",
     "output_type": "stream",
     "text": [
      "Length of train set:      436 of which \n",
      "                          874 cloudy \n",
      "                          874 desert \n",
      "                          874 forest \n",
      "                          874 water\n",
      "Length of validation set: 436 of which \n",
      "                          109 cloudy \n",
      "                          109 desert \n",
      "                          109 forest \n",
      "                          109 water \n",
      "\n",
      "Length of test set:       436 mixed\n"
     ]
    }
   ],
   "source": [
    "# indentation trick found at https://stackoverflow.com/questions/18756510/printing-with-indentation-in-python\n",
    "print(\"Length of train set:\", f\"{'':<5}{len(balanced_test)}\", \"of which\", \"\\n\",\n",
    "      f\"{'':<25}{len(balanced_train[balanced_train['img_class']=='cloudy'])}\", \"cloudy\", \"\\n\",\n",
    "         f\"{'':<25}{len(balanced_train[balanced_train['img_class']=='desert'])}\", \"desert\", \"\\n\", \n",
    "         f\"{'':<25}{len(balanced_train[balanced_train['img_class']=='forest'])}\", \"forest\", \"\\n\",\n",
    "         f\"{'':<25}{len(balanced_train[balanced_train['img_class']=='water'])}\", \"water\")\n",
    "\n",
    "print(\"Length of validation set:\", len(balanced_valid), \"of which\", \"\\n\",\n",
    "      f\"{'':<25}{len(balanced_valid[balanced_valid['img_class']=='cloudy'])}\", \"cloudy\", \"\\n\",\n",
    "         f\"{'':<25}{len(balanced_valid[balanced_valid['img_class']=='desert'])}\", \"desert\", \"\\n\", \n",
    "         f\"{'':<25}{len(balanced_valid[balanced_valid['img_class']=='forest'])}\", \"forest\", \"\\n\",\n",
    "         f\"{'':<25}{len(balanced_valid[balanced_valid['img_class']=='water'])}\", \"water\", \"\\n\")\n",
    "\n",
    "print(\"Length of test set:\", f\"{'':<6}{len(balanced_test)}\", \"mixed\")"
   ]
  },
  {
   "cell_type": "code",
   "execution_count": 54,
   "metadata": {},
   "outputs": [],
   "source": [
    "#balanced_train.to_csv(\"data_balance/balanced_train.csv\")\n",
    "#balanced_valid.to_csv(\"data_balance/balanced_valid.csv\")\n",
    "#balanced_test.to_csv(\"data_balance/balanced_test.csv\")"
   ]
  },
  {
   "cell_type": "code",
   "execution_count": 9,
   "metadata": {},
   "outputs": [],
   "source": [
    "balanced_train = pd.read_csv(\"data_balance/balanced_train.csv\")\n",
    "balanced_valid = pd.read_csv(\"data_balance/balanced_valid.csv\")\n",
    "balanced_test = pd.read_csv(\"data_balance/balanced_test.csv\")"
   ]
  },
  {
   "cell_type": "code",
   "execution_count": 3,
   "metadata": {},
   "outputs": [],
   "source": [
    "# Loading all dirs and dfs from here to avoid running the entire thing each time. SHOULD PROBABLY START A NEW NOTEBOOK FROM THIS POINT ON\n",
    "data_path = os.path.join(os.getcwd(), \"data\")\n",
    "cloudy_train = os.path.join(data_path, \"train/cloudy\")\n",
    "desert_train = os.path.join(data_path, \"train/desert\")\n",
    "forest_train = os.path.join(data_path, \"train/green_area\")\n",
    "water_train = os.path.join(data_path, \"train/water\")\n",
    "cloudy_valid = os.path.join(data_path, \"valid/cloudy\")\n",
    "desert_valid = os.path.join(data_path, \"valid/desert\")\n",
    "forest_valid = os.path.join(data_path, \"valid/green_area\")\n",
    "water_valid = os.path.join(data_path, \"valid/water\")\n",
    "imbalanced_test_dir = os.path.join(data_path, \"test/test\")  # prefix imbalanced will make sense later along the script\n",
    "\n",
    "def fix_valid_test_dirs(validation_dir_list, test_dir):\n",
    "    # fixing validation directories\n",
    "    for val_dir in validation_dir_list:\n",
    "        os.makedirs(val_dir, exist_ok=True)\n",
    "    # fixing test directory\n",
    "    os.makedirs(test_dir, exist_ok=True)\n",
    "\n",
    "fix_valid_test_dirs([cloudy_valid, desert_valid, forest_valid, water_valid], imbalanced_test_dir)\n",
    "\n",
    "data_balance = os.path.join(os.getcwd(), \"data_balance\")\n",
    "cloudy_btrain = os.path.join(data_balance, \"train/cloudy\")\n",
    "desert_btrain = os.path.join(data_balance, \"train/desert\")\n",
    "forest_btrain = os.path.join(data_balance, \"train/green_area\")\n",
    "water_btrain = os.path.join(data_balance, \"train/water\")\n",
    "cloudy_bvalid = os.path.join(data_balance, \"valid/cloudy\")\n",
    "desert_bvalid = os.path.join(data_balance, \"valid/desert\")\n",
    "forest_bvalid = os.path.join(data_balance, \"valid/green_area\")\n",
    "water_bvalid = os.path.join(data_balance, \"valid/water\")\n",
    "balanced_test_dir = os.path.join(data_balance, \"test/test\")\n",
    "\n",
    "fix_valid_test_dirs([cloudy_bvalid, desert_bvalid, forest_bvalid, water_bvalid], balanced_test_dir)\n",
    "\n",
    "\n",
    "image_df = pd.read_csv(\"data/image_df.csv\")\n",
    "balanced_df = pd.read_csv(\"data_balance/balanced_df.csv\")\n",
    "imbalanced_train = pd.read_csv(\"data/imbalanced_train.csv\")\n",
    "imbalanced_valid = pd.read_csv(\"data/imbalanced_valid.csv\")\n",
    "imbalanced_test = pd.read_csv(\"data/imbalanced_test.csv\")\n",
    "balanced_train = pd.read_csv(\"data_balance/balanced_train.csv\")\n",
    "balanced_valid = pd.read_csv(\"data_balance/balanced_valid.csv\")\n",
    "balanced_test = pd.read_csv(\"data_balance/balanced_test.csv\")"
   ]
  },
  {
   "cell_type": "markdown",
   "metadata": {},
   "source": [
    "<h1 style = \"color:lightseagreen\">5. Modeling</h1>"
   ]
  },
  {
   "cell_type": "code",
   "execution_count": 27,
   "metadata": {},
   "outputs": [],
   "source": [
    "# FROM ISI'S SCRIPT\n",
    "# 🎯 Specific functions\n",
    "def make_model(input_shape): \n",
    "    inputs = keras.Input(shape=input_shape)\n",
    "\n",
    "    x = layers.Conv2D(32, (3, 3), activation='relu')(inputs)\n",
    "    x = layers.MaxPooling2D((2, 2))(x)\n",
    "\n",
    "    x = layers.Conv2D(64, (3, 3), activation='relu')(x)\n",
    "    x = layers.MaxPooling2D((2, 2))(x)\n",
    "\n",
    "    x = layers.Conv2D(128, (1, 1), activation='relu')(x)\n",
    "    x = layers.MaxPooling2D((2, 2))(x)\n",
    "\n",
    "    x = layers.Conv2D(256, (2, 2), activation='relu')(x)\n",
    "    x = layers.MaxPooling2D((2, 2))(x)\n",
    "\n",
    "    x = layers.Flatten()(x)\n",
    "    x = layers.Dense(512, activation='relu')(x)\n",
    "    x = layers.Dense(256, activation='relu')(x)\n",
    "    x = layers.Dense(4, activation='softmax')(x)  # 4 catefories --> 4 dense need to find out how these things work exactly\n",
    "                                                  # FROM ISIS'S CYTOLOGY INDEX: softmax ---> no clue why\n",
    "\n",
    "    return keras.Model(inputs, x)"
   ]
  },
  {
   "cell_type": "markdown",
   "metadata": {},
   "source": [
    "<h2 style = \"color:lightseagreen\">5.1 Image Pre-processing</h2>"
   ]
  },
  {
   "cell_type": "code",
   "execution_count": 48,
   "metadata": {},
   "outputs": [],
   "source": [
    "# FROM ISI'S SCRIPT\n",
    "# Parameters that we can fine-tune later on\n",
    "img_height = 128  \n",
    "img_width = 128   \n",
    "image_size = (img_height, img_width)\n",
    "batch_size = 300 # https://machinelearningmastery.com/difference-between-a-batch-and-an-epoch/#:~:text=The%20batch%20size%20is%20a%20number%20of%20samples%20processed%20before,samples%20in%20the%20training%20dataset.\n",
    "\n",
    "datagen = ImageDataGenerator(\n",
    "    rescale=1.0/255,\n",
    "    rotation_range=30,\n",
    "    width_shift_range=.15,\n",
    "    height_shift_range=.15,\n",
    "    horizontal_flip=True,\n",
    "    zoom_range=0.2,\n",
    ")"
   ]
  },
  {
   "cell_type": "markdown",
   "metadata": {},
   "source": [
    "<h2 style = \"color:lightseagreen\">5.2.1 Baseline Models: Keras - CNN</h2>"
   ]
  },
  {
   "cell_type": "markdown",
   "metadata": {},
   "source": [
    "<h3 style = \"color:lightseagreen\">- Imbalanced Set</h3>"
   ]
  },
  {
   "cell_type": "code",
   "execution_count": 49,
   "metadata": {},
   "outputs": [],
   "source": [
    "train_dir_imb = os.path.join(os.getcwd(), \"data/train\")\n",
    "val_dir_imb = os.path.join(os.getcwd(), \"data/valid\")"
   ]
  },
  {
   "cell_type": "code",
   "execution_count": 55,
   "metadata": {},
   "outputs": [
    {
     "name": "stdout",
     "output_type": "stream",
     "text": [
      "Found 4474 images belonging to 4 classes.\n",
      "Found 559 images belonging to 4 classes.\n"
     ]
    }
   ],
   "source": [
    "# From Isi's adapted\n",
    "# Loading training data\n",
    "train_ds = datagen.flow_from_directory(\n",
    "    train_dir_imb,\n",
    "    seed=128,  # just has to stay the same, equivalent of random_state\n",
    "    target_size=image_size,\n",
    "    batch_size=batch_size,  # how many images per step\n",
    "    class_mode=\"categorical\"  # for multi-class\n",
    ")\n",
    "\n",
    "# Loading validation data\n",
    "val_ds = datagen.flow_from_directory(\n",
    "    val_dir_imb,\n",
    "    seed=128,\n",
    "    target_size=image_size,\n",
    "    batch_size=batch_size,\n",
    "    class_mode=\"categorical\",\n",
    ")"
   ]
  },
  {
   "cell_type": "code",
   "execution_count": 56,
   "metadata": {},
   "outputs": [],
   "source": [
    "# ISI'S\n",
    "# Keras model, build on top of TensorFlow\n",
    "model = make_model(input_shape=image_size + (3,)) # Image size + 3 channels of colors"
   ]
  },
  {
   "cell_type": "code",
   "execution_count": 57,
   "metadata": {},
   "outputs": [],
   "source": [
    "# From Isi adapted\n",
    "model.compile(\n",
    "    optimizer=keras.optimizers.Adamax(learning_rate=0.01),\n",
    "    loss=\"categorical_crossentropy\",\n",
    "    metrics=[\"accuracy\"],\n",
    ")"
   ]
  },
  {
   "cell_type": "code",
   "execution_count": 58,
   "metadata": {},
   "outputs": [
    {
     "name": "stdout",
     "output_type": "stream",
     "text": [
      "Epoch 1/30\n",
      "15/15 [==============================] - 43s 3s/step - loss: 2.2508 - accuracy: 0.4021 - val_loss: 0.8459 - val_accuracy: 0.4830\n",
      "Epoch 2/30\n",
      "15/15 [==============================] - 41s 3s/step - loss: 0.8125 - accuracy: 0.5170 - val_loss: 0.7273 - val_accuracy: 0.5206\n",
      "Epoch 3/30\n",
      "15/15 [==============================] - 41s 3s/step - loss: 0.6994 - accuracy: 0.5892 - val_loss: 0.6297 - val_accuracy: 0.7460\n",
      "Epoch 4/30\n",
      "15/15 [==============================] - 41s 3s/step - loss: 0.6057 - accuracy: 0.7038 - val_loss: 0.5486 - val_accuracy: 0.7120\n",
      "Epoch 5/30\n",
      "15/15 [==============================] - 42s 3s/step - loss: 0.4710 - accuracy: 0.7865 - val_loss: 0.4851 - val_accuracy: 0.7352\n",
      "Epoch 6/30\n",
      "15/15 [==============================] - 41s 3s/step - loss: 0.4754 - accuracy: 0.7874 - val_loss: 0.3589 - val_accuracy: 0.8658\n",
      "Epoch 7/30\n",
      "15/15 [==============================] - 42s 3s/step - loss: 0.3548 - accuracy: 0.8534 - val_loss: 0.3014 - val_accuracy: 0.8801\n",
      "Epoch 8/30\n",
      "15/15 [==============================] - 43s 3s/step - loss: 0.3056 - accuracy: 0.8780 - val_loss: 0.3854 - val_accuracy: 0.8247\n",
      "Epoch 9/30\n",
      "15/15 [==============================] - 43s 3s/step - loss: 0.2999 - accuracy: 0.8786 - val_loss: 0.2698 - val_accuracy: 0.8962\n",
      "Epoch 10/30\n",
      "15/15 [==============================] - 41s 3s/step - loss: 0.2832 - accuracy: 0.8873 - val_loss: 0.3080 - val_accuracy: 0.8712\n",
      "Epoch 11/30\n",
      "15/15 [==============================] - 41s 3s/step - loss: 0.2968 - accuracy: 0.8795 - val_loss: 0.4081 - val_accuracy: 0.8283\n",
      "Epoch 12/30\n",
      "15/15 [==============================] - 42s 3s/step - loss: 0.3535 - accuracy: 0.8536 - val_loss: 0.3602 - val_accuracy: 0.8283\n",
      "Epoch 13/30\n",
      "15/15 [==============================] - 43s 3s/step - loss: 0.2953 - accuracy: 0.8849 - val_loss: 0.3922 - val_accuracy: 0.8390\n",
      "Epoch 14/30\n",
      "15/15 [==============================] - 44s 3s/step - loss: 0.2570 - accuracy: 0.9010 - val_loss: 0.2482 - val_accuracy: 0.8873\n",
      "Epoch 15/30\n",
      "15/15 [==============================] - 46s 3s/step - loss: 0.2397 - accuracy: 0.9050 - val_loss: 0.2728 - val_accuracy: 0.8891\n",
      "Epoch 16/30\n",
      "15/15 [==============================] - 44s 3s/step - loss: 0.2250 - accuracy: 0.9117 - val_loss: 0.3363 - val_accuracy: 0.8497\n",
      "Epoch 17/30\n",
      "15/15 [==============================] - 44s 3s/step - loss: 0.2619 - accuracy: 0.8970 - val_loss: 0.2951 - val_accuracy: 0.8766\n",
      "Epoch 18/30\n",
      "15/15 [==============================] - 43s 3s/step - loss: 0.2265 - accuracy: 0.9110 - val_loss: 0.2822 - val_accuracy: 0.8837\n",
      "Epoch 19/30\n",
      "15/15 [==============================] - 43s 3s/step - loss: 0.2295 - accuracy: 0.9072 - val_loss: 0.2938 - val_accuracy: 0.8587\n",
      "Epoch 20/30\n",
      "15/15 [==============================] - 43s 3s/step - loss: 0.2308 - accuracy: 0.9139 - val_loss: 0.2834 - val_accuracy: 0.8891\n",
      "Epoch 21/30\n",
      "15/15 [==============================] - 43s 3s/step - loss: 0.2395 - accuracy: 0.9048 - val_loss: 0.3172 - val_accuracy: 0.8551\n",
      "Epoch 22/30\n",
      "15/15 [==============================] - 46s 3s/step - loss: 0.2172 - accuracy: 0.9139 - val_loss: 0.2150 - val_accuracy: 0.9159\n",
      "Epoch 23/30\n",
      "15/15 [==============================] - 44s 3s/step - loss: 0.2697 - accuracy: 0.8923 - val_loss: 0.2506 - val_accuracy: 0.9034\n",
      "Epoch 24/30\n",
      "15/15 [==============================] - 44s 3s/step - loss: 0.2480 - accuracy: 0.9055 - val_loss: 0.2659 - val_accuracy: 0.8873\n",
      "Epoch 25/30\n",
      "15/15 [==============================] - 45s 3s/step - loss: 0.2644 - accuracy: 0.8943 - val_loss: 0.2355 - val_accuracy: 0.9088\n",
      "Epoch 26/30\n",
      "15/15 [==============================] - 44s 3s/step - loss: 0.2311 - accuracy: 0.9084 - val_loss: 0.2237 - val_accuracy: 0.8980\n",
      "Epoch 27/30\n",
      "15/15 [==============================] - 45s 3s/step - loss: 0.2231 - accuracy: 0.9070 - val_loss: 0.3073 - val_accuracy: 0.8801\n",
      "Epoch 28/30\n",
      "15/15 [==============================] - 45s 3s/step - loss: 0.2248 - accuracy: 0.9086 - val_loss: 0.2324 - val_accuracy: 0.8980\n",
      "Epoch 29/30\n",
      "15/15 [==============================] - 43s 3s/step - loss: 0.2093 - accuracy: 0.9155 - val_loss: 0.2110 - val_accuracy: 0.9177\n",
      "Epoch 30/30\n",
      "15/15 [==============================] - 43s 3s/step - loss: 0.2402 - accuracy: 0.8932 - val_loss: 0.2427 - val_accuracy: 0.8945\n"
     ]
    }
   ],
   "source": [
    "# TRAINING MODEL - ISI'S\n",
    "epochs = 30\n",
    "\n",
    "callbacks = [\n",
    "    keras.callbacks.ModelCheckpoint(\"data/epochs/save_at_{epoch}.keras\"),\n",
    "]\n",
    "\n",
    "# Train your model without callbacks first\n",
    "hist = model.fit(\n",
    "    train_ds, \n",
    "    epochs=epochs, \n",
    "    validation_data=val_ds,\n",
    "    callbacks = callbacks,\n",
    ")"
   ]
  },
  {
   "cell_type": "code",
   "execution_count": 59,
   "metadata": {},
   "outputs": [
    {
     "data": {
      "image/png": "[encoded data removed]",
      "text/plain": [
       "<Figure size 640x480 with 1 Axes>"
      ]
     },
     "metadata": {},
     "output_type": "display_data"
    }
   ],
   "source": [
    "# FROM ISI'S - MODEL LOSS\n",
    "fig = plt.figure()\n",
    "plt.plot(hist.history['loss'], color='teal', label='loss')\n",
    "plt.plot(hist.history['val_loss'], color='orange', label='val_loss')\n",
    "fig.suptitle('Loss', fontsize=20)\n",
    "plt.legend(loc=\"upper left\")\n",
    "plt.show()"
   ]
  },
  {
   "cell_type": "code",
   "execution_count": 60,
   "metadata": {},
   "outputs": [
    {
     "data": {
      "image/png": "[encoded data removed]",
      "text/plain": [
       "<Figure size 640x480 with 1 Axes>"
      ]
     },
     "metadata": {},
     "output_type": "display_data"
    }
   ],
   "source": [
    "# ISI'S AGAIN - MODEL ACCURACY\n",
    "fig = plt.figure()\n",
    "plt.plot(hist.history['loss'], color='teal', label='loss')\n",
    "plt.plot(hist.history['val_loss'], color='orange', label='val_loss')\n",
    "fig.suptitle('Loss', fontsize=20)\n",
    "plt.legend(loc=\"upper left\")\n",
    "plt.show()"
   ]
  },
  {
   "cell_type": "code",
   "execution_count": null,
   "metadata": {},
   "outputs": [],
   "source": [
    "# OK IT'S ALL COPIED FROM ISI TILL THE END NOW, I HAVE NO SHAME. WILL ADAPT AND FIND OUT THE HOW-TOS TOMORROW. ISI IF YOU'RE READING THIS SENDING YOU <3 AND IN CASE YOU'RE WONDERING IF I'M INSANE FOR TALKING TO MYSELF WRITING ON THE NOTEBOOK THE ANSWER IS YES :P\n",
    "checkpoint_path = os.path.join(data_path, \"epochs\", \"save_at_29.keras\")\n",
    "model.load_weights(checkpoint_path)"
   ]
  },
  {
   "cell_type": "code",
   "execution_count": null,
   "metadata": {},
   "outputs": [],
   "source": []
  },
  {
   "cell_type": "code",
   "execution_count": 64,
   "metadata": {},
   "outputs": [
    {
     "name": "stdout",
     "output_type": "stream",
     "text": [
      "2/2 [==============================] - 2s 1s/step\n"
     ]
    },
    {
     "data": {
      "image/png": "[encoded data removed]",
      "text/plain": [
       "<Figure size 500x500 with 2 Axes>"
      ]
     },
     "metadata": {},
     "output_type": "display_data"
    },
    {
     "name": "stdout",
     "output_type": "stream",
     "text": [
      "              precision    recall  f1-score     support\n",
      "cloudy         0.218978  0.200000  0.209059  150.000000\n",
      "desert         0.116667  0.128440  0.122271  109.000000\n",
      "green_area     0.270968  0.280000  0.275410  150.000000\n",
      "water          0.258503  0.253333  0.255892  150.000000\n",
      "accuracy       0.221825  0.221825  0.221825    0.221825\n",
      "macro avg      0.216279  0.215443  0.215658  559.000000\n",
      "weighted avg   0.223585  0.221825  0.222508  559.000000\n"
     ]
    }
   ],
   "source": [
    "# CONFUSION MATRIX AND CLASSIFICATION REPORT\n",
    "from sklearn.metrics import classification_report, ConfusionMatrixDisplay, confusion_matrix\n",
    "# true labels\n",
    "true_labels = val_ds.classes\n",
    "\n",
    "# predictions\n",
    "predictions = model.predict(val_ds)\n",
    "pred_labels = np.argmax(predictions, axis=-1)\n",
    "\n",
    "# compute the confusion matrix\n",
    "cm = confusion_matrix(true_labels, pred_labels)\n",
    "\n",
    "# class names\n",
    "class_names = list(val_ds.class_indices.keys())\n",
    "\n",
    "# plot the confusion matrix\n",
    "fig, ax = plt.subplots(figsize=(5, 5))  # Increase the size of the figure\n",
    "disp = ConfusionMatrixDisplay(confusion_matrix=cm, display_labels=class_names)\n",
    "disp.plot(ax=ax, cmap='Blues', xticks_rotation='vertical')\n",
    "plt.show()\n",
    "\n",
    "sns.set(font_scale=1.5)\n",
    "report = classification_report(true_labels, pred_labels, target_names=class_names, output_dict=True)\n",
    "df_report = pd.DataFrame(report).transpose()\n",
    "\n",
    "# report as a dataframe\n",
    "print(df_report)"
   ]
  },
  {
   "cell_type": "code",
   "execution_count": null,
   "metadata": {},
   "outputs": [],
   "source": []
  }
 ],
 "metadata": {
  "kernelspec": {
   "display_name": "Python 3 (ipykernel)",
   "language": "python",
   "name": "python3"
  },
  "language_info": {
   "codemirror_mode": {
    "name": "ipython",
    "version": 3
   },
   "file_extension": ".py",
   "mimetype": "text/x-python",
   "name": "python",
   "nbconvert_exporter": "python",
   "pygments_lexer": "ipython3",
   "version": "3.10.9"
  }
 },
 "nbformat": 4,
 "nbformat_minor": 4
}
